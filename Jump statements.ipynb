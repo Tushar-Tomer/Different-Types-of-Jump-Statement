{
 "cells": [
  {
   "cell_type": "markdown",
   "id": "f7638fd1",
   "metadata": {},
   "source": [
    " # There are some type of jump statements :"
   ]
  },
  {
   "cell_type": "code",
   "execution_count": null,
   "id": "2dbcfeb1",
   "metadata": {},
   "outputs": [],
   "source": []
  },
  {
   "cell_type": "markdown",
   "id": "83105bcf",
   "metadata": {},
   "source": [
    "# -> break\n",
    "# -> continue\n",
    "# -> pass"
   ]
  },
  {
   "cell_type": "code",
   "execution_count": null,
   "id": "68381166",
   "metadata": {},
   "outputs": [],
   "source": []
  },
  {
   "cell_type": "markdown",
   "id": "d30376db",
   "metadata": {},
   "source": [
    "# How can we use this statement see below ."
   ]
  },
  {
   "cell_type": "code",
   "execution_count": null,
   "id": "409d29cf",
   "metadata": {},
   "outputs": [],
   "source": []
  },
  {
   "cell_type": "markdown",
   "id": "f46410dd",
   "metadata": {},
   "source": [
    "# -> break"
   ]
  },
  {
   "cell_type": "code",
   "execution_count": 8,
   "id": "c01714c8",
   "metadata": {},
   "outputs": [
    {
     "name": "stdout",
     "output_type": "stream",
     "text": [
      "0\n",
      "1\n"
     ]
    }
   ],
   "source": [
    "for i in range(10):\n",
    "    if i==2:\n",
    "       break\n",
    "    print(i)"
   ]
  },
  {
   "cell_type": "code",
   "execution_count": 10,
   "id": "c601e2ec",
   "metadata": {},
   "outputs": [
    {
     "name": "stdout",
     "output_type": "stream",
     "text": [
      "n\n",
      "a\n"
     ]
    }
   ],
   "source": [
    "name='natasha'\n",
    "for i in name:\n",
    "    if i=='t':\n",
    "        break\n",
    "    print(i)\n"
   ]
  },
  {
   "cell_type": "code",
   "execution_count": 11,
   "id": "d095c2e9",
   "metadata": {},
   "outputs": [
    {
     "name": "stdout",
     "output_type": "stream",
     "text": [
      "1\n",
      "2\n",
      "3\n",
      "4\n",
      "5\n",
      "This statement will print after the loop..\n"
     ]
    }
   ],
   "source": [
    "x=1\n",
    "while x<=10:\n",
    "    print(x)\n",
    "    if x==5:\n",
    "        break\n",
    "    x=x+1\n",
    "\n",
    "print(\"This statement will print after the loop..\")"
   ]
  },
  {
   "cell_type": "code",
   "execution_count": 1,
   "id": "e1841847",
   "metadata": {},
   "outputs": [
    {
     "name": "stdout",
     "output_type": "stream",
     "text": [
      "1\n",
      "2\n",
      "3\n",
      "sum is 6\n",
      "count= 3\n"
     ]
    }
   ],
   "source": [
    "list = [1,2,3,4,5,6]\n",
    " \n",
    "s=0 \n",
    "c=0 \n",
    "for num in list: \n",
    "        print(num) \n",
    "        s+=num # s=s+num \n",
    "        c+=1 # c=c+1 \n",
    "        if(c == 3):\n",
    " \n",
    "             break\n",
    " \n",
    "print(\"sum is\",s)\n",
    "print(\"count=\",c)"
   ]
  },
  {
   "cell_type": "code",
   "execution_count": 14,
   "id": "183762e3",
   "metadata": {},
   "outputs": [
    {
     "name": "stdout",
     "output_type": "stream",
     "text": [
      "hello 2\n"
     ]
    }
   ],
   "source": [
    "x=1\n",
    "while True:\n",
    "    x+=1\n",
    "    print('hello',x)\n",
    "    if x==5:\n",
    "        print('hiii')\n",
    "    break"
   ]
  },
  {
   "cell_type": "code",
   "execution_count": 15,
   "id": "28bbddfa",
   "metadata": {},
   "outputs": [
    {
     "name": "stdout",
     "output_type": "stream",
     "text": [
      "sum is 3\n"
     ]
    }
   ],
   "source": [
    "s=0\n",
    " \n",
    "c=0\n",
    " \n",
    "while c < 6:\n",
    "   s+=c # s=s+c\n",
    " \n",
    "   c+=1\n",
    " \n",
    "   if(c == 3):\n",
    " \n",
    "    break\n",
    " \n",
    "print(\"sum is\",(s))"
   ]
  },
  {
   "cell_type": "code",
   "execution_count": null,
   "id": "9351914e",
   "metadata": {},
   "outputs": [],
   "source": []
  },
  {
   "cell_type": "markdown",
   "id": "0b615836",
   "metadata": {},
   "source": [
    "# -> Continue"
   ]
  },
  {
   "cell_type": "code",
   "execution_count": 3,
   "id": "894b29a4",
   "metadata": {},
   "outputs": [
    {
     "name": "stdout",
     "output_type": "stream",
     "text": [
      "1\n",
      "2\n",
      "3\n",
      "4\n",
      "5\n",
      "6\n",
      "7\n",
      "8\n",
      "9\n",
      "10\n"
     ]
    }
   ],
   "source": [
    "for i in range(1,11):\n",
    "    print(i)\n",
    "    if i==5:\n",
    "        continue\n",
    "    "
   ]
  },
  {
   "cell_type": "code",
   "execution_count": 3,
   "id": "fd21dc3c",
   "metadata": {},
   "outputs": [
    {
     "name": "stdout",
     "output_type": "stream",
     "text": [
      "1\n",
      "2\n",
      "3\n",
      "4\n",
      "6\n",
      "7\n",
      "8\n",
      "9\n",
      "10\n"
     ]
    }
   ],
   "source": [
    "for i in range(1,11):\n",
    "     if i==5:\n",
    "        continue\n",
    "        \n",
    "     print(i)"
   ]
  },
  {
   "cell_type": "code",
   "execution_count": 18,
   "id": "5258cd45",
   "metadata": {},
   "outputs": [
    {
     "name": "stdout",
     "output_type": "stream",
     "text": [
      "1\n",
      "2\n",
      "3\n",
      "4\n",
      "6\n",
      "7\n",
      "8\n",
      "9\n",
      "11\n",
      "12\n",
      "13\n",
      "14\n"
     ]
    }
   ],
   "source": [
    "for i in range(1,16):\n",
    "    if i%5==0:\n",
    "        continue\n",
    "    print(i)"
   ]
  },
  {
   "cell_type": "code",
   "execution_count": 13,
   "id": "e5c96510",
   "metadata": {},
   "outputs": [
    {
     "name": "stdout",
     "output_type": "stream",
     "text": [
      "1\n",
      "2\n",
      "3\n",
      "4\n",
      "6\n",
      "7\n",
      "8\n",
      "9\n",
      "11\n",
      "12\n",
      "13\n",
      "14\n",
      "16\n",
      "17\n",
      "18\n",
      "19\n",
      "21\n",
      "22\n",
      "23\n",
      "24\n",
      "26\n"
     ]
    }
   ],
   "source": [
    "i=0\n",
    "while i!=26:\n",
    "    i=i+1\n",
    "    if i%5==0:\n",
    "        continue\n",
    "    print(i)"
   ]
  },
  {
   "cell_type": "code",
   "execution_count": 16,
   "id": "fc5a8a90",
   "metadata": {},
   "outputs": [
    {
     "name": "stdout",
     "output_type": "stream",
     "text": [
      "n\n",
      "a\n",
      "a\n",
      "s\n",
      "h\n",
      "a\n",
      "a\n"
     ]
    }
   ],
   "source": [
    "for k in 'natasha':\n",
    "    if k=='t':\n",
    "        continue\n",
    "        print('hiii')\n",
    "   \n",
    "    print(k)\n",
    "#     break\n",
    "print(k)"
   ]
  },
  {
   "cell_type": "code",
   "execution_count": null,
   "id": "3a065180",
   "metadata": {},
   "outputs": [],
   "source": []
  },
  {
   "cell_type": "code",
   "execution_count": 2,
   "id": "ed1e4ecb",
   "metadata": {},
   "outputs": [
    {
     "name": "stdout",
     "output_type": "stream",
     "text": [
      "s\n",
      "u\n",
      "m\n",
      "t\n"
     ]
    }
   ],
   "source": [
    "name='sumit'\n",
    "for i in name:\n",
    "    if i=='i':\n",
    "        continue\n",
    "    print(i)"
   ]
  },
  {
   "cell_type": "code",
   "execution_count": 19,
   "id": "fee01f07",
   "metadata": {},
   "outputs": [
    {
     "name": "stdout",
     "output_type": "stream",
     "text": [
      "2\n",
      "3\n",
      "4\n",
      "6\n",
      "7\n",
      "8\n",
      "9\n",
      "10\n",
      "11\n",
      "This statement will print after the loop..\n"
     ]
    }
   ],
   "source": [
    "x=1\n",
    "while x<=10:\n",
    "    x=x+1\n",
    "    if x==5:\n",
    "        continue\n",
    "    print(x)\n",
    "\n",
    "print(\"This statement will print after the loop..\")"
   ]
  },
  {
   "cell_type": "code",
   "execution_count": 20,
   "id": "3747ebfa",
   "metadata": {},
   "outputs": [
    {
     "name": "stdout",
     "output_type": "stream",
     "text": [
      "count is: 1\n",
      "count is: 2\n",
      "count is: 3\n",
      "count is: 4\n",
      "count is: 6\n",
      "sum is: 15\n"
     ]
    }
   ],
   "source": [
    "s=0\n",
    " \n",
    "c=0\n",
    " \n",
    "while c < 6:\n",
    " \n",
    "   s+=c\n",
    " \n",
    "   c+=1\n",
    " \n",
    "   if(c == 5):\n",
    " \n",
    "    continue\n",
    " \n",
    "   print(\"count is:\",(c))\n",
    " \n",
    "print(\"sum is:\",(s))"
   ]
  },
  {
   "cell_type": "code",
   "execution_count": 16,
   "id": "22a4ac0d",
   "metadata": {},
   "outputs": [
    {
     "name": "stdout",
     "output_type": "stream",
     "text": [
      "c is: 2\n",
      "c is: 3\n",
      "c is: 4\n",
      "c is: 6\n",
      "c is: 7\n",
      "c is: 8\n",
      "c is: 9\n",
      "sum is 36\n"
     ]
    }
   ],
   "source": [
    "s=0\n",
    " \n",
    "for c in range(1,9):\n",
    " \n",
    "   s+=c\n",
    " \n",
    "   c+=1\n",
    " \n",
    "   if(c == 5):\n",
    " \n",
    "    continue\n",
    " \n",
    "   print(\"c is:\",(c))\n",
    " \n",
    "print(\"sum is\",(s))"
   ]
  },
  {
   "cell_type": "code",
   "execution_count": null,
   "id": "f44ca51e",
   "metadata": {},
   "outputs": [],
   "source": []
  },
  {
   "cell_type": "markdown",
   "id": "63948898",
   "metadata": {},
   "source": [
    "# -> pass"
   ]
  },
  {
   "cell_type": "code",
   "execution_count": 6,
   "id": "a09cf8cf",
   "metadata": {},
   "outputs": [
    {
     "name": "stdout",
     "output_type": "stream",
     "text": [
      "enter n7\n"
     ]
    }
   ],
   "source": [
    "n=int(input('enter n'))\n",
    "if n%2==0:\n",
    "    print(n)\n",
    "else:\n",
    "    pass\n",
    "    "
   ]
  },
  {
   "cell_type": "code",
   "execution_count": null,
   "id": "63ede189",
   "metadata": {},
   "outputs": [],
   "source": []
  },
  {
   "cell_type": "code",
   "execution_count": 25,
   "id": "342c0ec1",
   "metadata": {},
   "outputs": [
    {
     "name": "stdout",
     "output_type": "stream",
     "text": [
      "10\n",
      "a\n",
      "11\n",
      "a\n",
      "12\n",
      "a\n",
      "hiii\n"
     ]
    }
   ],
   "source": [
    "ran=10\n",
    "while ran!=13:\n",
    "    print(ran)\n",
    "    ran+=1\n",
    "    if ran>10:\n",
    "        print('a')\n",
    "\n",
    "print('hiii')"
   ]
  },
  {
   "cell_type": "code",
   "execution_count": 4,
   "id": "6cca1d18",
   "metadata": {},
   "outputs": [
    {
     "name": "stdout",
     "output_type": "stream",
     "text": [
      "Enter no. = 5\n"
     ]
    }
   ],
   "source": [
    "n=int(input('Enter no. = '))\n",
    "if n%2==0:\n",
    "    print(n)\n",
    "else:\n",
    "    pass"
   ]
  },
  {
   "cell_type": "code",
   "execution_count": 26,
   "id": "4f68a565",
   "metadata": {},
   "outputs": [
    {
     "name": "stdout",
     "output_type": "stream",
     "text": [
      "d\n",
      "e\n",
      "e\n",
      "p\n",
      "a\n",
      "n\n",
      "s\n",
      "h\n",
      "u\n",
      "\n",
      "\n",
      "v\n",
      "e\n",
      "r\n",
      "m\n",
      "a\n",
      "\n",
      "\n"
     ]
    }
   ],
   "source": [
    "name=['deepanshu','verma']\n",
    "for i in name: # Outer loop\n",
    "    for j in i: # inner loop\n",
    "        print(j)\n",
    "    print(\"\\n\")"
   ]
  },
  {
   "cell_type": "code",
   "execution_count": 11,
   "id": "4aaa7673",
   "metadata": {},
   "outputs": [
    {
     "name": "stdout",
     "output_type": "stream",
     "text": [
      "python\n",
      "perl\n",
      "pascal\n",
      "parrot\n",
      "ape\n",
      "papa\n",
      "papa\n"
     ]
    }
   ],
   "source": [
    "l=['python', 'perl','c','c++','java','pascal','parrot','ape',\"papa\"]\n",
    "for i in l: # i\n",
    "    for j in i:\n",
    "        if j=='p':\n",
    "            print(i)\n",
    "        else:\n",
    "            pass\n",
    "    "
   ]
  },
  {
   "cell_type": "code",
   "execution_count": 10,
   "id": "6a60b793",
   "metadata": {},
   "outputs": [
    {
     "name": "stdout",
     "output_type": "stream",
     "text": [
      "python\n",
      "perl\n",
      "pascal\n",
      "parrot\n"
     ]
    }
   ],
   "source": [
    "l=['python', 'perl','c','c++','java','pascal','parrot','ape']\n",
    "for i in l: # i\n",
    "    if i[0]==\"p\":\n",
    "        print(i)"
   ]
  },
  {
   "cell_type": "code",
   "execution_count": 29,
   "id": "f3812074",
   "metadata": {},
   "outputs": [
    {
     "name": "stdout",
     "output_type": "stream",
     "text": [
      "0\n",
      "1\n",
      "0\n",
      "1\n"
     ]
    }
   ],
   "source": [
    "for i in range(2):\n",
    "    for j in range(2):\n",
    "        print(j)"
   ]
  },
  {
   "cell_type": "code",
   "execution_count": 15,
   "id": "c3337b0d",
   "metadata": {},
   "outputs": [
    {
     "name": "stdout",
     "output_type": "stream",
     "text": [
      "enter table range=10\n",
      "Table of  1\n",
      "1 X 1 = 1\n",
      "1 X 2 = 2\n",
      "1 X 3 = 3\n",
      "1 X 4 = 4\n",
      "1 X 5 = 5\n",
      "1 X 6 = 6\n",
      "1 X 7 = 7\n",
      "1 X 8 = 8\n",
      "1 X 9 = 9\n",
      "1 X 10 = 10\n",
      "======================\n",
      "Table of  2\n",
      "2 X 1 = 2\n",
      "2 X 2 = 4\n",
      "2 X 3 = 6\n",
      "2 X 4 = 8\n",
      "2 X 5 = 10\n",
      "2 X 6 = 12\n",
      "2 X 7 = 14\n",
      "2 X 8 = 16\n",
      "2 X 9 = 18\n",
      "2 X 10 = 20\n",
      "======================\n",
      "Table of  3\n",
      "3 X 1 = 3\n",
      "3 X 2 = 6\n",
      "3 X 3 = 9\n",
      "3 X 4 = 12\n",
      "3 X 5 = 15\n",
      "3 X 6 = 18\n",
      "3 X 7 = 21\n",
      "3 X 8 = 24\n",
      "3 X 9 = 27\n",
      "3 X 10 = 30\n",
      "======================\n",
      "Table of  4\n",
      "4 X 1 = 4\n",
      "4 X 2 = 8\n",
      "4 X 3 = 12\n",
      "4 X 4 = 16\n",
      "4 X 5 = 20\n",
      "4 X 6 = 24\n",
      "4 X 7 = 28\n",
      "4 X 8 = 32\n",
      "4 X 9 = 36\n",
      "4 X 10 = 40\n",
      "======================\n",
      "Table of  5\n",
      "5 X 1 = 5\n",
      "5 X 2 = 10\n",
      "5 X 3 = 15\n",
      "5 X 4 = 20\n",
      "5 X 5 = 25\n",
      "5 X 6 = 30\n",
      "5 X 7 = 35\n",
      "5 X 8 = 40\n",
      "5 X 9 = 45\n",
      "5 X 10 = 50\n",
      "======================\n",
      "Table of  6\n",
      "6 X 1 = 6\n",
      "6 X 2 = 12\n",
      "6 X 3 = 18\n",
      "6 X 4 = 24\n",
      "6 X 5 = 30\n",
      "6 X 6 = 36\n",
      "6 X 7 = 42\n",
      "6 X 8 = 48\n",
      "6 X 9 = 54\n",
      "6 X 10 = 60\n",
      "======================\n",
      "Table of  7\n",
      "7 X 1 = 7\n",
      "7 X 2 = 14\n",
      "7 X 3 = 21\n",
      "7 X 4 = 28\n",
      "7 X 5 = 35\n",
      "7 X 6 = 42\n",
      "7 X 7 = 49\n",
      "7 X 8 = 56\n",
      "7 X 9 = 63\n",
      "7 X 10 = 70\n",
      "======================\n",
      "Table of  8\n",
      "8 X 1 = 8\n",
      "8 X 2 = 16\n",
      "8 X 3 = 24\n",
      "8 X 4 = 32\n",
      "8 X 5 = 40\n",
      "8 X 6 = 48\n",
      "8 X 7 = 56\n",
      "8 X 8 = 64\n",
      "8 X 9 = 72\n",
      "8 X 10 = 80\n",
      "======================\n",
      "Table of  9\n",
      "9 X 1 = 9\n",
      "9 X 2 = 18\n",
      "9 X 3 = 27\n",
      "9 X 4 = 36\n",
      "9 X 5 = 45\n",
      "9 X 6 = 54\n",
      "9 X 7 = 63\n",
      "9 X 8 = 72\n",
      "9 X 9 = 81\n",
      "9 X 10 = 90\n",
      "======================\n",
      "Table of  10\n",
      "10 X 1 = 10\n",
      "10 X 2 = 20\n",
      "10 X 3 = 30\n",
      "10 X 4 = 40\n",
      "10 X 5 = 50\n",
      "10 X 6 = 60\n",
      "10 X 7 = 70\n",
      "10 X 8 = 80\n",
      "10 X 9 = 90\n",
      "10 X 10 = 100\n",
      "======================\n"
     ]
    }
   ],
   "source": [
    "n=int(input('enter table range='))\n",
    "for i in range(1,n+1):\n",
    "    print('Table of ',i)\n",
    "    for j in range(1,11):\n",
    "        print(i,\"X\",j,\"=\",i*j)\n",
    "    print(\"======================\")\n"
   ]
  },
  {
   "cell_type": "code",
   "execution_count": 24,
   "id": "9e9a970d",
   "metadata": {},
   "outputs": [
    {
     "name": "stdout",
     "output_type": "stream",
     "text": [
      "0\n",
      "0\n",
      "a\n",
      "0\n",
      "a\n",
      "0\n",
      "1\n",
      "a\n",
      "0\n",
      "a\n",
      "0\n",
      "1\n",
      "0\n",
      "a\n",
      "1\n",
      "a\n",
      "1\n",
      "1\n",
      "a\n",
      "1\n",
      "a\n",
      "1\n"
     ]
    }
   ],
   "source": [
    "for i in range(2):\n",
    "    print(i)\n",
    "    for j in range(2):\n",
    "        print(j)\n",
    "        for k in range(2):\n",
    "            print('a')\n",
    "            print(i)"
   ]
  },
  {
   "cell_type": "code",
   "execution_count": 30,
   "id": "62693428",
   "metadata": {},
   "outputs": [
    {
     "name": "stdout",
     "output_type": "stream",
     "text": [
      "enter n4\n",
      "\n",
      "Table of  1\n",
      "1 X 1 = 1\n",
      "1 X 2 = 2\n",
      "1 X 3 = 3\n",
      "1 X 4 = 4\n",
      "1 X 5 = 5\n",
      "1 X 6 = 6\n",
      "1 X 7 = 7\n",
      "1 X 8 = 8\n",
      "1 X 9 = 9\n",
      "1 X 10 = 10\n",
      "-------------------------\n",
      "\n",
      "Table of  2\n",
      "2 X 1 = 2\n",
      "2 X 2 = 4\n",
      "2 X 3 = 6\n",
      "2 X 4 = 8\n",
      "2 X 5 = 10\n",
      "2 X 6 = 12\n",
      "2 X 7 = 14\n",
      "2 X 8 = 16\n",
      "2 X 9 = 18\n",
      "2 X 10 = 20\n",
      "-------------------------\n",
      "\n",
      "Table of  3\n",
      "3 X 1 = 3\n",
      "3 X 2 = 6\n",
      "3 X 3 = 9\n",
      "3 X 4 = 12\n",
      "3 X 5 = 15\n",
      "3 X 6 = 18\n",
      "3 X 7 = 21\n",
      "3 X 8 = 24\n",
      "3 X 9 = 27\n",
      "3 X 10 = 30\n",
      "-------------------------\n",
      "\n",
      "Table of  4\n",
      "4 X 1 = 4\n",
      "4 X 2 = 8\n",
      "4 X 3 = 12\n",
      "4 X 4 = 16\n",
      "4 X 5 = 20\n",
      "4 X 6 = 24\n",
      "4 X 7 = 28\n",
      "4 X 8 = 32\n",
      "4 X 9 = 36\n",
      "4 X 10 = 40\n",
      "-------------------------\n"
     ]
    }
   ],
   "source": [
    "n=int(input('enter n'))\n",
    "for i in range(1,n+1):\n",
    "    print()\n",
    "    print('Table of ',i)\n",
    "    for j in range(1,11):\n",
    "        print(i,'X',j,'=',i*j)\n",
    "    print('-------------------------')"
   ]
  },
  {
   "cell_type": "code",
   "execution_count": null,
   "id": "7e062c73",
   "metadata": {},
   "outputs": [],
   "source": []
  },
  {
   "cell_type": "code",
   "execution_count": null,
   "id": "dee45278",
   "metadata": {},
   "outputs": [],
   "source": []
  },
  {
   "cell_type": "code",
   "execution_count": null,
   "id": "f5ec160b",
   "metadata": {},
   "outputs": [],
   "source": []
  },
  {
   "cell_type": "code",
   "execution_count": null,
   "id": "cbe04774",
   "metadata": {},
   "outputs": [],
   "source": []
  },
  {
   "cell_type": "code",
   "execution_count": null,
   "id": "824b62ee",
   "metadata": {},
   "outputs": [],
   "source": []
  },
  {
   "cell_type": "code",
   "execution_count": null,
   "id": "b7425434",
   "metadata": {},
   "outputs": [],
   "source": [
    "#Write a Python program which iterates the integers from 1 to 50.\n",
    "#For multiples of three print \"Fizz\" instead of the number and for the multiples of five print \"Buzz\".\n",
    "#For numbers which are multiples of both three and five print \"FizzBuzz\""
   ]
  },
  {
   "cell_type": "code",
   "execution_count": null,
   "id": "26ab0627",
   "metadata": {},
   "outputs": [],
   "source": []
  },
  {
   "cell_type": "code",
   "execution_count": 31,
   "id": "08a92136",
   "metadata": {},
   "outputs": [
    {
     "name": "stdout",
     "output_type": "stream",
     "text": [
      "d\n",
      "e\n",
      "e\n",
      "p\n",
      "a\n",
      "n\n",
      "s\n",
      "h\n",
      "u\n",
      "\n",
      "\n",
      "v\n",
      "e\n",
      "r\n",
      "m\n",
      "a\n",
      "\n",
      "\n"
     ]
    }
   ],
   "source": [
    "name=['deepanshu','verma']\n",
    "for i in name: # outer loop\n",
    "    for j in i: # inner loop\n",
    "        print(j)\n",
    "    print(\"\\n\")\n",
    "    "
   ]
  },
  {
   "cell_type": "code",
   "execution_count": null,
   "id": "b0637383",
   "metadata": {},
   "outputs": [],
   "source": []
  },
  {
   "cell_type": "code",
   "execution_count": null,
   "id": "0bc9cb0f",
   "metadata": {},
   "outputs": [],
   "source": []
  }
 ],
 "metadata": {
  "kernelspec": {
   "display_name": "Python 3 (ipykernel)",
   "language": "python",
   "name": "python3"
  },
  "language_info": {
   "codemirror_mode": {
    "name": "ipython",
    "version": 3
   },
   "file_extension": ".py",
   "mimetype": "text/x-python",
   "name": "python",
   "nbconvert_exporter": "python",
   "pygments_lexer": "ipython3",
   "version": "3.9.12"
  }
 },
 "nbformat": 4,
 "nbformat_minor": 5
}
